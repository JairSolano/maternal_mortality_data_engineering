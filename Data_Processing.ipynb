{
 "cells": [
  {
   "cell_type": "markdown",
   "id": "0f3ccf5d",
   "metadata": {},
   "source": [
    "# Project 3: Maternal Mortality"
   ]
  },
  {
   "cell_type": "code",
   "execution_count": null,
   "id": "fb24ee0d",
   "metadata": {},
   "outputs": [],
   "source": [
    "# Import dependencies\n",
    "import pandas as pd\n",
    "import numpy as np\n",
    "import re\n",
    "pd.set_option('max_colwidth', 400)"
   ]
  },
  {
   "cell_type": "code",
   "execution_count": 98,
   "id": "059dee26",
   "metadata": {},
   "outputs": [
    {
     "data": {
      "text/html": [
       "<div>\n",
       "<style scoped>\n",
       "    .dataframe tbody tr th:only-of-type {\n",
       "        vertical-align: middle;\n",
       "    }\n",
       "\n",
       "    .dataframe tbody tr th {\n",
       "        vertical-align: top;\n",
       "    }\n",
       "\n",
       "    .dataframe thead th {\n",
       "        text-align: right;\n",
       "    }\n",
       "</style>\n",
       "<table border=\"1\" class=\"dataframe\">\n",
       "  <thead>\n",
       "    <tr style=\"text-align: right;\">\n",
       "      <th></th>\n",
       "      <th>Data As Of</th>\n",
       "      <th>Jurisdiction</th>\n",
       "      <th>Group</th>\n",
       "      <th>Subgroup</th>\n",
       "      <th>Year of Death</th>\n",
       "      <th>Month of Death</th>\n",
       "      <th>Time Period</th>\n",
       "      <th>Month Ending Date</th>\n",
       "      <th>Maternal Deaths</th>\n",
       "      <th>Live Births</th>\n",
       "      <th>Maternal Mortality Rate</th>\n",
       "      <th>Footnote</th>\n",
       "    </tr>\n",
       "  </thead>\n",
       "  <tbody>\n",
       "    <tr>\n",
       "      <th>0</th>\n",
       "      <td>4/14/2024</td>\n",
       "      <td>United States</td>\n",
       "      <td>Total</td>\n",
       "      <td>Total</td>\n",
       "      <td>2019</td>\n",
       "      <td>1</td>\n",
       "      <td>12 month-ending</td>\n",
       "      <td>1/31/2019</td>\n",
       "      <td>660</td>\n",
       "      <td>3,787,776</td>\n",
       "      <td>17.4</td>\n",
       "      <td>NaN</td>\n",
       "    </tr>\n",
       "    <tr>\n",
       "      <th>1</th>\n",
       "      <td>4/14/2024</td>\n",
       "      <td>United States</td>\n",
       "      <td>Total</td>\n",
       "      <td>Total</td>\n",
       "      <td>2019</td>\n",
       "      <td>2</td>\n",
       "      <td>12 month-ending</td>\n",
       "      <td>2/28/2019</td>\n",
       "      <td>653</td>\n",
       "      <td>3,783,489</td>\n",
       "      <td>17.3</td>\n",
       "      <td>NaN</td>\n",
       "    </tr>\n",
       "    <tr>\n",
       "      <th>2</th>\n",
       "      <td>4/14/2024</td>\n",
       "      <td>United States</td>\n",
       "      <td>Total</td>\n",
       "      <td>Total</td>\n",
       "      <td>2019</td>\n",
       "      <td>3</td>\n",
       "      <td>12 month-ending</td>\n",
       "      <td>3/31/2019</td>\n",
       "      <td>657</td>\n",
       "      <td>3,771,682</td>\n",
       "      <td>17.4</td>\n",
       "      <td>NaN</td>\n",
       "    </tr>\n",
       "    <tr>\n",
       "      <th>3</th>\n",
       "      <td>4/14/2024</td>\n",
       "      <td>United States</td>\n",
       "      <td>Total</td>\n",
       "      <td>Total</td>\n",
       "      <td>2019</td>\n",
       "      <td>4</td>\n",
       "      <td>12 month-ending</td>\n",
       "      <td>4/30/2019</td>\n",
       "      <td>668</td>\n",
       "      <td>3,772,235</td>\n",
       "      <td>17.7</td>\n",
       "      <td>NaN</td>\n",
       "    </tr>\n",
       "    <tr>\n",
       "      <th>4</th>\n",
       "      <td>4/14/2024</td>\n",
       "      <td>United States</td>\n",
       "      <td>Total</td>\n",
       "      <td>Total</td>\n",
       "      <td>2019</td>\n",
       "      <td>5</td>\n",
       "      <td>12 month-ending</td>\n",
       "      <td>5/31/2019</td>\n",
       "      <td>706</td>\n",
       "      <td>3,767,999</td>\n",
       "      <td>18.7</td>\n",
       "      <td>NaN</td>\n",
       "    </tr>\n",
       "  </tbody>\n",
       "</table>\n",
       "</div>"
      ],
      "text/plain": [
       "  Data As Of   Jurisdiction  Group Subgroup  Year of Death  Month of Death  \\\n",
       "0  4/14/2024  United States  Total    Total           2019               1   \n",
       "1  4/14/2024  United States  Total    Total           2019               2   \n",
       "2  4/14/2024  United States  Total    Total           2019               3   \n",
       "3  4/14/2024  United States  Total    Total           2019               4   \n",
       "4  4/14/2024  United States  Total    Total           2019               5   \n",
       "\n",
       "       Time Period Month Ending Date Maternal Deaths Live Births  \\\n",
       "0  12 month-ending         1/31/2019             660   3,787,776   \n",
       "1  12 month-ending         2/28/2019             653   3,783,489   \n",
       "2  12 month-ending         3/31/2019             657   3,771,682   \n",
       "3  12 month-ending         4/30/2019             668   3,772,235   \n",
       "4  12 month-ending         5/31/2019             706   3,767,999   \n",
       "\n",
       "   Maternal Mortality Rate Footnote  \n",
       "0                     17.4      NaN  \n",
       "1                     17.3      NaN  \n",
       "2                     17.4      NaN  \n",
       "3                     17.7      NaN  \n",
       "4                     18.7      NaN  "
      ]
     },
     "execution_count": 98,
     "metadata": {},
     "output_type": "execute_result"
    }
   ],
   "source": [
    "# Extract the csv. Data\n",
    "maternal_mortality_df = pd.read_csv('VSRR_Provisional_Maternal_Death_Counts_and_Rates.csv')\n",
    "maternal_mortality_df.head()"
   ]
  },
  {
   "cell_type": "code",
   "execution_count": 99,
   "id": "bf353457",
   "metadata": {},
   "outputs": [
    {
     "name": "stdout",
     "output_type": "stream",
     "text": [
      "<class 'pandas.core.frame.DataFrame'>\n",
      "RangeIndex: 600 entries, 0 to 599\n",
      "Data columns (total 12 columns):\n",
      " #   Column                   Non-Null Count  Dtype  \n",
      "---  ------                   --------------  -----  \n",
      " 0   Data As Of               600 non-null    object \n",
      " 1   Jurisdiction             600 non-null    object \n",
      " 2   Group                    600 non-null    object \n",
      " 3   Subgroup                 600 non-null    object \n",
      " 4   Year of Death            600 non-null    int64  \n",
      " 5   Month of Death           600 non-null    int64  \n",
      " 6   Time Period              600 non-null    object \n",
      " 7   Month Ending Date        600 non-null    object \n",
      " 8   Maternal Deaths          533 non-null    object \n",
      " 9   Live Births              600 non-null    object \n",
      " 10  Maternal Mortality Rate  494 non-null    float64\n",
      " 11  Footnote                 106 non-null    object \n",
      "dtypes: float64(1), int64(2), object(9)\n",
      "memory usage: 56.4+ KB\n"
     ]
    }
   ],
   "source": [
    "# look at brief summary of maternal_mortality DataFrame.\n",
    "maternal_mortality_df.info()"
   ]
  },
  {
   "cell_type": "code",
   "execution_count": 100,
   "id": "3bf8dd23",
   "metadata": {},
   "outputs": [
    {
     "name": "stdout",
     "output_type": "stream",
     "text": [
      "['Data As Of', 'Jurisdiction', 'Group', 'Subgroup', 'Year of Death', 'Month of Death', 'Time Period', 'Month Ending Date', 'Maternal Deaths', 'Live Births', 'Maternal Mortality Rate', 'Footnote']\n"
     ]
    }
   ],
   "source": [
    "# Print out column names\n",
    "df_columns = maternal_mortality_df.columns.to_list()\n",
    "print(df_columns)"
   ]
  },
  {
   "cell_type": "code",
   "execution_count": 101,
   "id": "2a10e86f",
   "metadata": {},
   "outputs": [
    {
     "name": "stdout",
     "output_type": "stream",
     "text": [
      "<class 'pandas.core.frame.DataFrame'>\n",
      "RangeIndex: 600 entries, 0 to 599\n",
      "Data columns (total 5 columns):\n",
      " #   Column                   Non-Null Count  Dtype  \n",
      "---  ------                   --------------  -----  \n",
      " 0   Subgroup                 600 non-null    object \n",
      " 1   Month Ending Date        600 non-null    object \n",
      " 2   Maternal Deaths          533 non-null    object \n",
      " 3   Live Births              600 non-null    object \n",
      " 4   Maternal Mortality Rate  494 non-null    float64\n",
      "dtypes: float64(1), object(4)\n",
      "memory usage: 23.6+ KB\n"
     ]
    }
   ],
   "source": [
    "# Get rid of columns we don't need\n",
    "# 'Data As Of': Identical values under this column\n",
    "# Jurisdiction: All data pertains to United States\n",
    "# 'Group': 'Subgroup' contains more detailed info\n",
    "# 'Year of Death': Redundant since we have 'Month Ending Date'\n",
    "# 'Month of Death': Redundant since we have 'Month Ending Date'\n",
    "maternal_mortality_df = maternal_mortality_df.drop(['Data As Of', 'Jurisdiction', 'Group', 'Year of Death', 'Month of Death', 'Time Period', \"Footnote\"], axis=1)\n",
    "maternal_mortality_df.info()"
   ]
  },
  {
   "cell_type": "code",
   "execution_count": 102,
   "id": "edcf63a8",
   "metadata": {},
   "outputs": [
    {
     "name": "stdout",
     "output_type": "stream",
     "text": [
      "<class 'pandas.core.frame.DataFrame'>\n",
      "RangeIndex: 600 entries, 0 to 599\n",
      "Data columns (total 5 columns):\n",
      " #   Column                   Non-Null Count  Dtype  \n",
      "---  ------                   --------------  -----  \n",
      " 0   Subgroup                 600 non-null    object \n",
      " 1   Month Ending Date        600 non-null    object \n",
      " 2   Maternal Deaths          533 non-null    Int64  \n",
      " 3   Live Births              600 non-null    Int64  \n",
      " 4   Maternal Mortality Rate  494 non-null    float64\n",
      "dtypes: Int64(2), float64(1), object(2)\n",
      "memory usage: 24.7+ KB\n"
     ]
    }
   ],
   "source": [
    "maternal_mortality_df['Maternal Deaths'] = maternal_mortality_df['Maternal Deaths'].str.replace(',', '').astype('Int64')\n",
    "maternal_mortality_df['Live Births'] = maternal_mortality_df['Live Births'].str.replace(',', '').astype('Int64')\n",
    "maternal_mortality_df.info()"
   ]
  },
  {
   "cell_type": "code",
   "execution_count": 103,
   "id": "0183b9c5",
   "metadata": {},
   "outputs": [],
   "source": [
    "# We are only interested in analyzing rates among diff racial groups, and we will not look at age groups\n",
    "# We will then extract specific racial groups from the data\n",
    "maternal_mortality_df = maternal_mortality_df.rename(columns={'Subgroup':'Race'})"
   ]
  },
  {
   "cell_type": "code",
   "execution_count": 104,
   "id": "e37ea05a",
   "metadata": {},
   "outputs": [
    {
     "data": {
      "text/html": [
       "<div>\n",
       "<style scoped>\n",
       "    .dataframe tbody tr th:only-of-type {\n",
       "        vertical-align: middle;\n",
       "    }\n",
       "\n",
       "    .dataframe tbody tr th {\n",
       "        vertical-align: top;\n",
       "    }\n",
       "\n",
       "    .dataframe thead th {\n",
       "        text-align: right;\n",
       "    }\n",
       "</style>\n",
       "<table border=\"1\" class=\"dataframe\">\n",
       "  <thead>\n",
       "    <tr style=\"text-align: right;\">\n",
       "      <th></th>\n",
       "      <th>Race</th>\n",
       "      <th>Month Ending Date</th>\n",
       "      <th>Maternal Deaths</th>\n",
       "      <th>Live Births</th>\n",
       "      <th>Maternal Mortality Rate</th>\n",
       "    </tr>\n",
       "  </thead>\n",
       "  <tbody>\n",
       "    <tr>\n",
       "      <th>0</th>\n",
       "      <td>Total</td>\n",
       "      <td>1/31/2019</td>\n",
       "      <td>660</td>\n",
       "      <td>3787776</td>\n",
       "      <td>17.4</td>\n",
       "    </tr>\n",
       "    <tr>\n",
       "      <th>1</th>\n",
       "      <td>Total</td>\n",
       "      <td>2/28/2019</td>\n",
       "      <td>653</td>\n",
       "      <td>3783489</td>\n",
       "      <td>17.3</td>\n",
       "    </tr>\n",
       "    <tr>\n",
       "      <th>2</th>\n",
       "      <td>Total</td>\n",
       "      <td>3/31/2019</td>\n",
       "      <td>657</td>\n",
       "      <td>3771682</td>\n",
       "      <td>17.4</td>\n",
       "    </tr>\n",
       "    <tr>\n",
       "      <th>3</th>\n",
       "      <td>Total</td>\n",
       "      <td>4/30/2019</td>\n",
       "      <td>668</td>\n",
       "      <td>3772235</td>\n",
       "      <td>17.7</td>\n",
       "    </tr>\n",
       "    <tr>\n",
       "      <th>4</th>\n",
       "      <td>Total</td>\n",
       "      <td>5/31/2019</td>\n",
       "      <td>706</td>\n",
       "      <td>3767999</td>\n",
       "      <td>18.7</td>\n",
       "    </tr>\n",
       "  </tbody>\n",
       "</table>\n",
       "</div>"
      ],
      "text/plain": [
       "    Race Month Ending Date  Maternal Deaths  Live Births  \\\n",
       "0  Total         1/31/2019              660      3787776   \n",
       "1  Total         2/28/2019              653      3783489   \n",
       "2  Total         3/31/2019              657      3771682   \n",
       "3  Total         4/30/2019              668      3772235   \n",
       "4  Total         5/31/2019              706      3767999   \n",
       "\n",
       "   Maternal Mortality Rate  \n",
       "0                     17.4  \n",
       "1                     17.3  \n",
       "2                     17.4  \n",
       "3                     17.7  \n",
       "4                     18.7  "
      ]
     },
     "execution_count": 104,
     "metadata": {},
     "output_type": "execute_result"
    }
   ],
   "source": [
    "maternal_mortality_df.head()"
   ]
  },
  {
   "cell_type": "code",
   "execution_count": 105,
   "id": "d951b057",
   "metadata": {},
   "outputs": [],
   "source": [
    "# Change the '/' in 'Month Ending Date' to '-'\n",
    "maternal_mortality_df[\"Month Ending Date\"] = maternal_mortality_df[\"Month Ending Date\"].str.replace(r'(/)','-', regex=True)"
   ]
  },
  {
   "cell_type": "code",
   "execution_count": 106,
   "id": "188e0f4d",
   "metadata": {},
   "outputs": [
    {
     "data": {
      "text/html": [
       "<div>\n",
       "<style scoped>\n",
       "    .dataframe tbody tr th:only-of-type {\n",
       "        vertical-align: middle;\n",
       "    }\n",
       "\n",
       "    .dataframe tbody tr th {\n",
       "        vertical-align: top;\n",
       "    }\n",
       "\n",
       "    .dataframe thead th {\n",
       "        text-align: right;\n",
       "    }\n",
       "</style>\n",
       "<table border=\"1\" class=\"dataframe\">\n",
       "  <thead>\n",
       "    <tr style=\"text-align: right;\">\n",
       "      <th></th>\n",
       "      <th>Race</th>\n",
       "      <th>Month Ending Date</th>\n",
       "      <th>Maternal Deaths</th>\n",
       "      <th>Live Births</th>\n",
       "      <th>Maternal Mortality Rate</th>\n",
       "    </tr>\n",
       "  </thead>\n",
       "  <tbody>\n",
       "    <tr>\n",
       "      <th>0</th>\n",
       "      <td>Total</td>\n",
       "      <td>1-31-2019</td>\n",
       "      <td>660</td>\n",
       "      <td>3787776</td>\n",
       "      <td>17.4</td>\n",
       "    </tr>\n",
       "    <tr>\n",
       "      <th>1</th>\n",
       "      <td>Total</td>\n",
       "      <td>2-28-2019</td>\n",
       "      <td>653</td>\n",
       "      <td>3783489</td>\n",
       "      <td>17.3</td>\n",
       "    </tr>\n",
       "    <tr>\n",
       "      <th>2</th>\n",
       "      <td>Total</td>\n",
       "      <td>3-31-2019</td>\n",
       "      <td>657</td>\n",
       "      <td>3771682</td>\n",
       "      <td>17.4</td>\n",
       "    </tr>\n",
       "    <tr>\n",
       "      <th>3</th>\n",
       "      <td>Total</td>\n",
       "      <td>4-30-2019</td>\n",
       "      <td>668</td>\n",
       "      <td>3772235</td>\n",
       "      <td>17.7</td>\n",
       "    </tr>\n",
       "    <tr>\n",
       "      <th>4</th>\n",
       "      <td>Total</td>\n",
       "      <td>5-31-2019</td>\n",
       "      <td>706</td>\n",
       "      <td>3767999</td>\n",
       "      <td>18.7</td>\n",
       "    </tr>\n",
       "  </tbody>\n",
       "</table>\n",
       "</div>"
      ],
      "text/plain": [
       "    Race Month Ending Date  Maternal Deaths  Live Births  \\\n",
       "0  Total         1-31-2019              660      3787776   \n",
       "1  Total         2-28-2019              653      3783489   \n",
       "2  Total         3-31-2019              657      3771682   \n",
       "3  Total         4-30-2019              668      3772235   \n",
       "4  Total         5-31-2019              706      3767999   \n",
       "\n",
       "   Maternal Mortality Rate  \n",
       "0                     17.4  \n",
       "1                     17.3  \n",
       "2                     17.4  \n",
       "3                     17.7  \n",
       "4                     18.7  "
      ]
     },
     "execution_count": 106,
     "metadata": {},
     "output_type": "execute_result"
    }
   ],
   "source": [
    "maternal_mortality_df.head()"
   ]
  },
  {
   "cell_type": "code",
   "execution_count": 107,
   "id": "27e6f257",
   "metadata": {},
   "outputs": [],
   "source": [
    "# Change 'Month Ending Date' from String to Datetime data type\n",
    "maternal_mortality_df[\"Month Ending Date\"] = pd.to_datetime(maternal_mortality_df[\"Month Ending Date\"])"
   ]
  },
  {
   "cell_type": "code",
   "execution_count": 108,
   "id": "d420ee31",
   "metadata": {},
   "outputs": [],
   "source": [
    "maternal_mortality_df = maternal_mortality_df.rename(columns={'Month Ending Date': 'Date_m'})"
   ]
  },
  {
   "cell_type": "code",
   "execution_count": 109,
   "id": "c8657dd8",
   "metadata": {},
   "outputs": [
    {
     "data": {
      "text/html": [
       "<div>\n",
       "<style scoped>\n",
       "    .dataframe tbody tr th:only-of-type {\n",
       "        vertical-align: middle;\n",
       "    }\n",
       "\n",
       "    .dataframe tbody tr th {\n",
       "        vertical-align: top;\n",
       "    }\n",
       "\n",
       "    .dataframe thead th {\n",
       "        text-align: right;\n",
       "    }\n",
       "</style>\n",
       "<table border=\"1\" class=\"dataframe\">\n",
       "  <thead>\n",
       "    <tr style=\"text-align: right;\">\n",
       "      <th></th>\n",
       "      <th>Race</th>\n",
       "      <th>Date_m</th>\n",
       "      <th>Maternal Deaths</th>\n",
       "      <th>Live Births</th>\n",
       "      <th>Maternal Mortality Rate</th>\n",
       "    </tr>\n",
       "  </thead>\n",
       "  <tbody>\n",
       "    <tr>\n",
       "      <th>0</th>\n",
       "      <td>Total</td>\n",
       "      <td>2019-01-31</td>\n",
       "      <td>660</td>\n",
       "      <td>3787776</td>\n",
       "      <td>17.4</td>\n",
       "    </tr>\n",
       "    <tr>\n",
       "      <th>1</th>\n",
       "      <td>Total</td>\n",
       "      <td>2019-02-28</td>\n",
       "      <td>653</td>\n",
       "      <td>3783489</td>\n",
       "      <td>17.3</td>\n",
       "    </tr>\n",
       "    <tr>\n",
       "      <th>2</th>\n",
       "      <td>Total</td>\n",
       "      <td>2019-03-31</td>\n",
       "      <td>657</td>\n",
       "      <td>3771682</td>\n",
       "      <td>17.4</td>\n",
       "    </tr>\n",
       "    <tr>\n",
       "      <th>3</th>\n",
       "      <td>Total</td>\n",
       "      <td>2019-04-30</td>\n",
       "      <td>668</td>\n",
       "      <td>3772235</td>\n",
       "      <td>17.7</td>\n",
       "    </tr>\n",
       "    <tr>\n",
       "      <th>4</th>\n",
       "      <td>Total</td>\n",
       "      <td>2019-05-31</td>\n",
       "      <td>706</td>\n",
       "      <td>3767999</td>\n",
       "      <td>18.7</td>\n",
       "    </tr>\n",
       "  </tbody>\n",
       "</table>\n",
       "</div>"
      ],
      "text/plain": [
       "    Race     Date_m  Maternal Deaths  Live Births  Maternal Mortality Rate\n",
       "0  Total 2019-01-31              660      3787776                     17.4\n",
       "1  Total 2019-02-28              653      3783489                     17.3\n",
       "2  Total 2019-03-31              657      3771682                     17.4\n",
       "3  Total 2019-04-30              668      3772235                     17.7\n",
       "4  Total 2019-05-31              706      3767999                     18.7"
      ]
     },
     "execution_count": 109,
     "metadata": {},
     "output_type": "execute_result"
    }
   ],
   "source": [
    "maternal_mortality_df.head()"
   ]
  },
  {
   "cell_type": "code",
   "execution_count": 110,
   "id": "c8adf8bd",
   "metadata": {},
   "outputs": [
    {
     "name": "stdout",
     "output_type": "stream",
     "text": [
      "<class 'pandas.core.frame.DataFrame'>\n",
      "RangeIndex: 600 entries, 0 to 599\n",
      "Data columns (total 5 columns):\n",
      " #   Column                   Non-Null Count  Dtype         \n",
      "---  ------                   --------------  -----         \n",
      " 0   Race                     600 non-null    object        \n",
      " 1   Date_m                   600 non-null    datetime64[ns]\n",
      " 2   Maternal Deaths          533 non-null    Int64         \n",
      " 3   Live Births              600 non-null    Int64         \n",
      " 4   Maternal Mortality Rate  494 non-null    float64       \n",
      "dtypes: Int64(2), datetime64[ns](1), float64(1), object(1)\n",
      "memory usage: 24.7+ KB\n"
     ]
    }
   ],
   "source": [
    "maternal_mortality_df.info()"
   ]
  },
  {
   "cell_type": "code",
   "execution_count": 111,
   "id": "8069d120",
   "metadata": {},
   "outputs": [],
   "source": [
    "# Change Column names so they are easier to work with in SQL \n",
    "maternal_mortality_df = maternal_mortality_df.rename(columns={'Year of Death': 'Year', 'Month of Death': 'Month', 'Maternal Deaths': 'Maternal_Deaths', 'Live Births': 'Live_Births', 'Maternal Mortality Rate': 'Maternal_Mortality_Rate'})"
   ]
  },
  {
   "cell_type": "code",
   "execution_count": 114,
   "id": "6d45feb6",
   "metadata": {
    "scrolled": true
   },
   "outputs": [
    {
     "name": "stdout",
     "output_type": "stream",
     "text": [
      "<class 'pandas.core.frame.DataFrame'>\n",
      "Index: 60 entries, 240 to 299\n",
      "Data columns (total 5 columns):\n",
      " #   Column                   Non-Null Count  Dtype  \n",
      "---  ------                   --------------  -----  \n",
      " 0   Hispanic_index           60 non-null     int32  \n",
      " 1   Date_index               60 non-null     int32  \n",
      " 2   Maternal_Deaths          60 non-null     Int64  \n",
      " 3   Live_Births              60 non-null     Int64  \n",
      " 4   Maternal_Mortality_Rate  60 non-null     float64\n",
      "dtypes: Int64(2), float64(1), int32(2)\n",
      "memory usage: 2.5 KB\n"
     ]
    },
    {
     "name": "stderr",
     "output_type": "stream",
     "text": [
      "C:\\Users\\karen\\AppData\\Local\\Temp\\ipykernel_11124\\1739154843.py:6: SettingWithCopyWarning: \n",
      "A value is trying to be set on a copy of a slice from a DataFrame.\n",
      "Try using .loc[row_indexer,col_indexer] = value instead\n",
      "\n",
      "See the caveats in the documentation: https://pandas.pydata.org/pandas-docs/stable/user_guide/indexing.html#returning-a-view-versus-a-copy\n",
      "  hispanic_df[\"Hispanic_index\"] = hispanic_index\n",
      "C:\\Users\\karen\\AppData\\Local\\Temp\\ipykernel_11124\\1739154843.py:8: SettingWithCopyWarning: \n",
      "A value is trying to be set on a copy of a slice from a DataFrame.\n",
      "Try using .loc[row_indexer,col_indexer] = value instead\n",
      "\n",
      "See the caveats in the documentation: https://pandas.pydata.org/pandas-docs/stable/user_guide/indexing.html#returning-a-view-versus-a-copy\n",
      "  hispanic_df[\"Date_index\"] = hispanic_index\n"
     ]
    }
   ],
   "source": [
    "# Make a DataFrame/table for data of Hispanic mothers\n",
    "p = '^Hispanic'\n",
    "hispanic_df = maternal_mortality_df[maternal_mortality_df['Race'].str.contains(p)]\n",
    "hispanic_index = np.arange(0, len(hispanic_df), 1)\n",
    "# Create an index column called 'Hispanic_index' for the hispanic df (makes creating a table in SQL easier)\n",
    "hispanic_df[\"Hispanic_index\"] = hispanic_index\n",
    "# Create a second index that is the same as 'Hispanic_index' but makes easier to connect tables in SQL\n",
    "hispanic_df[\"Date_index\"] = hispanic_index\n",
    "hispanic_df = hispanic_df[['Hispanic_index', 'Date_index', 'Maternal_Deaths', 'Live_Births', 'Maternal_Mortality_Rate']]\n",
    "hispanic_df.info()\n",
    "hispanic_df.to_csv(\"Resources/hispanic.csv\", encoding='utf8', index=False)"
   ]
  },
  {
   "cell_type": "code",
   "execution_count": 115,
   "id": "be5311fd",
   "metadata": {},
   "outputs": [
    {
     "name": "stdout",
     "output_type": "stream",
     "text": [
      "<class 'pandas.core.frame.DataFrame'>\n",
      "Index: 60 entries, 300 to 359\n",
      "Data columns (total 5 columns):\n",
      " #   Column                   Non-Null Count  Dtype  \n",
      "---  ------                   --------------  -----  \n",
      " 0   Native_Indian_index      60 non-null     int32  \n",
      " 1   Date_index               60 non-null     int32  \n",
      " 2   Maternal_Deaths          53 non-null     Int64  \n",
      " 3   Live_Births              60 non-null     Int64  \n",
      " 4   Maternal_Mortality_Rate  14 non-null     float64\n",
      "dtypes: Int64(2), float64(1), int32(2)\n",
      "memory usage: 2.5 KB\n"
     ]
    },
    {
     "name": "stderr",
     "output_type": "stream",
     "text": [
      "C:\\Users\\karen\\AppData\\Local\\Temp\\ipykernel_11124\\4258798043.py:6: SettingWithCopyWarning: \n",
      "A value is trying to be set on a copy of a slice from a DataFrame.\n",
      "Try using .loc[row_indexer,col_indexer] = value instead\n",
      "\n",
      "See the caveats in the documentation: https://pandas.pydata.org/pandas-docs/stable/user_guide/indexing.html#returning-a-view-versus-a-copy\n",
      "  native_indian_df[\"Native_Indian_index\"] = native_indian_index\n",
      "C:\\Users\\karen\\AppData\\Local\\Temp\\ipykernel_11124\\4258798043.py:8: SettingWithCopyWarning: \n",
      "A value is trying to be set on a copy of a slice from a DataFrame.\n",
      "Try using .loc[row_indexer,col_indexer] = value instead\n",
      "\n",
      "See the caveats in the documentation: https://pandas.pydata.org/pandas-docs/stable/user_guide/indexing.html#returning-a-view-versus-a-copy\n",
      "  native_indian_df[\"Date_index\"] = native_indian_index\n"
     ]
    }
   ],
   "source": [
    "# Make a DataFrame/table for data of Native-American mothers\n",
    "p = 'Indian'\n",
    "native_indian_df = maternal_mortality_df[maternal_mortality_df['Race'].str.contains(p)]\n",
    "native_indian_index = np.arange(0, len(native_indian_df), 1)\n",
    "# Create an index column called 'Native_Indian_index' for the native_indian_df (makes creating a table in SQL easier)\n",
    "native_indian_df[\"Native_Indian_index\"] = native_indian_index\n",
    "# Create a second index that is the same as 'Native_Indian_index' but makes easier to connect tables in SQL\n",
    "native_indian_df[\"Date_index\"] = native_indian_index\n",
    "# Rearrange columns for Native Indian df\n",
    "native_indian_df = native_indian_df[['Native_Indian_index', 'Date_index', 'Maternal_Deaths', 'Live_Births', 'Maternal_Mortality_Rate']]\n",
    "native_indian_df.info()\n",
    "native_indian_df.to_csv(\"Resources/native_indian.csv\", encoding='utf8', index=False)"
   ]
  },
  {
   "cell_type": "code",
   "execution_count": 116,
   "id": "0f2e95fd",
   "metadata": {},
   "outputs": [
    {
     "name": "stdout",
     "output_type": "stream",
     "text": [
      "<class 'pandas.core.frame.DataFrame'>\n",
      "Index: 60 entries, 420 to 479\n",
      "Data columns (total 5 columns):\n",
      " #   Column                   Non-Null Count  Dtype  \n",
      "---  ------                   --------------  -----  \n",
      " 0   Black_index              60 non-null     int32  \n",
      " 1   Date_index               60 non-null     int32  \n",
      " 2   Maternal_Deaths          60 non-null     Int64  \n",
      " 3   Live_Births              60 non-null     Int64  \n",
      " 4   Maternal_Mortality_Rate  60 non-null     float64\n",
      "dtypes: Int64(2), float64(1), int32(2)\n",
      "memory usage: 2.5 KB\n"
     ]
    },
    {
     "name": "stderr",
     "output_type": "stream",
     "text": [
      "C:\\Users\\karen\\AppData\\Local\\Temp\\ipykernel_11124\\3041603174.py:6: SettingWithCopyWarning: \n",
      "A value is trying to be set on a copy of a slice from a DataFrame.\n",
      "Try using .loc[row_indexer,col_indexer] = value instead\n",
      "\n",
      "See the caveats in the documentation: https://pandas.pydata.org/pandas-docs/stable/user_guide/indexing.html#returning-a-view-versus-a-copy\n",
      "  black_df[\"Black_index\"] = black_index\n",
      "C:\\Users\\karen\\AppData\\Local\\Temp\\ipykernel_11124\\3041603174.py:8: SettingWithCopyWarning: \n",
      "A value is trying to be set on a copy of a slice from a DataFrame.\n",
      "Try using .loc[row_indexer,col_indexer] = value instead\n",
      "\n",
      "See the caveats in the documentation: https://pandas.pydata.org/pandas-docs/stable/user_guide/indexing.html#returning-a-view-versus-a-copy\n",
      "  black_df[\"Date_index\"] = black_index\n"
     ]
    }
   ],
   "source": [
    "# Make a DataFrame/table for data of Black mothers\n",
    "p = 'Black'\n",
    "black_df = maternal_mortality_df[maternal_mortality_df['Race'].str.contains(p)]\n",
    "black_index = np.arange(0, len(black_df), 1)\n",
    "# Create an index column called 'Black_index' for the black_df (makes creating a table in SQL easier)\n",
    "black_df[\"Black_index\"] = black_index\n",
    "# Create a second index that is the same as 'Black_index' but makes easier to connect tables in SQL\n",
    "black_df[\"Date_index\"] = black_index\n",
    "black_df = black_df[['Black_index', 'Date_index', 'Maternal_Deaths', 'Live_Births', 'Maternal_Mortality_Rate']]\n",
    "black_df.info()\n",
    "black_df.to_csv(\"Resources/black.csv\", encoding='utf8', index=False)"
   ]
  },
  {
   "cell_type": "code",
   "execution_count": 117,
   "id": "061eaa44",
   "metadata": {},
   "outputs": [
    {
     "name": "stdout",
     "output_type": "stream",
     "text": [
      "<class 'pandas.core.frame.DataFrame'>\n",
      "Index: 60 entries, 360 to 419\n",
      "Data columns (total 5 columns):\n",
      " #   Column                   Non-Null Count  Dtype  \n",
      "---  ------                   --------------  -----  \n",
      " 0   Asian_index              60 non-null     int32  \n",
      " 1   Date_index               60 non-null     int32  \n",
      " 2   Maternal_Deaths          60 non-null     Int64  \n",
      " 3   Live_Births              60 non-null     Int64  \n",
      " 4   Maternal_Mortality_Rate  60 non-null     float64\n",
      "dtypes: Int64(2), float64(1), int32(2)\n",
      "memory usage: 2.5 KB\n"
     ]
    },
    {
     "name": "stderr",
     "output_type": "stream",
     "text": [
      "C:\\Users\\karen\\AppData\\Local\\Temp\\ipykernel_11124\\3913352145.py:6: SettingWithCopyWarning: \n",
      "A value is trying to be set on a copy of a slice from a DataFrame.\n",
      "Try using .loc[row_indexer,col_indexer] = value instead\n",
      "\n",
      "See the caveats in the documentation: https://pandas.pydata.org/pandas-docs/stable/user_guide/indexing.html#returning-a-view-versus-a-copy\n",
      "  asian_df[\"Asian_index\"] = asian_index\n",
      "C:\\Users\\karen\\AppData\\Local\\Temp\\ipykernel_11124\\3913352145.py:8: SettingWithCopyWarning: \n",
      "A value is trying to be set on a copy of a slice from a DataFrame.\n",
      "Try using .loc[row_indexer,col_indexer] = value instead\n",
      "\n",
      "See the caveats in the documentation: https://pandas.pydata.org/pandas-docs/stable/user_guide/indexing.html#returning-a-view-versus-a-copy\n",
      "  asian_df[\"Date_index\"] = asian_index\n"
     ]
    }
   ],
   "source": [
    "# Make a DataFrame/table for data of Asian mothers\n",
    "p = 'Asian'\n",
    "asian_df = maternal_mortality_df[maternal_mortality_df['Race'].str.contains(p)]\n",
    "asian_index = np.arange(0, len(asian_df), 1)\n",
    "## Create an index column called 'Asian_index' for the asian_df (makes creating a table in SQL easier)\n",
    "asian_df[\"Asian_index\"] = asian_index\n",
    "# Create a second index that is the same as 'Asian_index' but makes easier to connect tables in SQL\n",
    "asian_df[\"Date_index\"] = asian_index\n",
    "asian_df = asian_df[['Asian_index', 'Date_index', 'Maternal_Deaths', 'Live_Births', 'Maternal_Mortality_Rate']]\n",
    "asian_df.info()\n",
    "asian_df.to_csv(\"Resources/asian.csv\", encoding='utf8', index=False)"
   ]
  },
  {
   "cell_type": "code",
   "execution_count": 118,
   "id": "fabebd30",
   "metadata": {},
   "outputs": [
    {
     "name": "stdout",
     "output_type": "stream",
     "text": [
      "<class 'pandas.core.frame.DataFrame'>\n",
      "Index: 60 entries, 480 to 539\n",
      "Data columns (total 5 columns):\n",
      " #   Column                   Non-Null Count  Dtype  \n",
      "---  ------                   --------------  -----  \n",
      " 0   Pacific_index            60 non-null     int32  \n",
      " 1   Date_index               60 non-null     int32  \n",
      " 2   Maternal_Deaths          0 non-null      Int64  \n",
      " 3   Live_Births              60 non-null     Int64  \n",
      " 4   Maternal_Mortality_Rate  0 non-null      float64\n",
      "dtypes: Int64(2), float64(1), int32(2)\n",
      "memory usage: 2.5 KB\n"
     ]
    },
    {
     "name": "stderr",
     "output_type": "stream",
     "text": [
      "C:\\Users\\karen\\AppData\\Local\\Temp\\ipykernel_11124\\825562343.py:6: SettingWithCopyWarning: \n",
      "A value is trying to be set on a copy of a slice from a DataFrame.\n",
      "Try using .loc[row_indexer,col_indexer] = value instead\n",
      "\n",
      "See the caveats in the documentation: https://pandas.pydata.org/pandas-docs/stable/user_guide/indexing.html#returning-a-view-versus-a-copy\n",
      "  pacific_islander_df[\"Pacific_index\"] = pacific_islander_index\n",
      "C:\\Users\\karen\\AppData\\Local\\Temp\\ipykernel_11124\\825562343.py:8: SettingWithCopyWarning: \n",
      "A value is trying to be set on a copy of a slice from a DataFrame.\n",
      "Try using .loc[row_indexer,col_indexer] = value instead\n",
      "\n",
      "See the caveats in the documentation: https://pandas.pydata.org/pandas-docs/stable/user_guide/indexing.html#returning-a-view-versus-a-copy\n",
      "  pacific_islander_df[\"Date_index\"] = pacific_islander_index\n"
     ]
    }
   ],
   "source": [
    "# Make a DataFrame/table for data of Pacific Islander mothers\n",
    "p = 'Hawaiian'\n",
    "pacific_islander_df = maternal_mortality_df[maternal_mortality_df['Race'].str.contains(p)]\n",
    "pacific_islander_index = np.arange(0, len(pacific_islander_df), 1)\n",
    "# Create an index column called 'Pacific_index' for the pacific_islander_df (makes creating a table in SQL easier)\n",
    "pacific_islander_df[\"Pacific_index\"] = pacific_islander_index\n",
    "# Create a second index that is the same as 'Pacific_index' but makes easier to connect tables in SQL\n",
    "pacific_islander_df[\"Date_index\"] = pacific_islander_index\n",
    "pacific_islander_df = pacific_islander_df[['Pacific_index', 'Date_index', 'Maternal_Deaths', 'Live_Births', 'Maternal_Mortality_Rate']]\n",
    "pacific_islander_df.info()\n",
    "pacific_islander_df.to_csv(\"Resources/pacific_islander.csv\", encoding='utf8', index=False)"
   ]
  },
  {
   "cell_type": "code",
   "execution_count": 119,
   "id": "7279f1d7",
   "metadata": {
    "scrolled": true
   },
   "outputs": [
    {
     "name": "stdout",
     "output_type": "stream",
     "text": [
      "<class 'pandas.core.frame.DataFrame'>\n",
      "Index: 60 entries, 540 to 599\n",
      "Data columns (total 5 columns):\n",
      " #   Column                   Non-Null Count  Dtype  \n",
      "---  ------                   --------------  -----  \n",
      " 0   White_index              60 non-null     int32  \n",
      " 1   Date_index               60 non-null     int32  \n",
      " 2   Maternal_Deaths          60 non-null     Int64  \n",
      " 3   Live_Births              60 non-null     Int64  \n",
      " 4   Maternal_Mortality_Rate  60 non-null     float64\n",
      "dtypes: Int64(2), float64(1), int32(2)\n",
      "memory usage: 2.5 KB\n"
     ]
    },
    {
     "name": "stderr",
     "output_type": "stream",
     "text": [
      "C:\\Users\\karen\\AppData\\Local\\Temp\\ipykernel_11124\\3804809718.py:6: SettingWithCopyWarning: \n",
      "A value is trying to be set on a copy of a slice from a DataFrame.\n",
      "Try using .loc[row_indexer,col_indexer] = value instead\n",
      "\n",
      "See the caveats in the documentation: https://pandas.pydata.org/pandas-docs/stable/user_guide/indexing.html#returning-a-view-versus-a-copy\n",
      "  white_df[\"White_index\"] = white_index\n",
      "C:\\Users\\karen\\AppData\\Local\\Temp\\ipykernel_11124\\3804809718.py:8: SettingWithCopyWarning: \n",
      "A value is trying to be set on a copy of a slice from a DataFrame.\n",
      "Try using .loc[row_indexer,col_indexer] = value instead\n",
      "\n",
      "See the caveats in the documentation: https://pandas.pydata.org/pandas-docs/stable/user_guide/indexing.html#returning-a-view-versus-a-copy\n",
      "  white_df[\"Date_index\"] = white_index\n"
     ]
    }
   ],
   "source": [
    "# Make a DataFrame/table for data of White mothers\n",
    "p = 'White'\n",
    "white_df = maternal_mortality_df[maternal_mortality_df['Race'].str.contains(p)]\n",
    "white_index = np.arange(0, len(white_df), 1)\n",
    "# Create an index column called 'White_index' for the white_df (makes creating a table in SQL easier)\n",
    "white_df[\"White_index\"] = white_index\n",
    "# Create a second index that is the same as 'White_index' but makes easier to connect tables in SQL\n",
    "white_df[\"Date_index\"] = white_index\n",
    "white_df = white_df[['White_index', 'Date_index','Maternal_Deaths', 'Live_Births', 'Maternal_Mortality_Rate']]\n",
    "white_df.info()\n",
    "white_df.to_csv(\"Resources/white.csv\", encoding='utf8', index=False)"
   ]
  },
  {
   "cell_type": "code",
   "execution_count": 120,
   "id": "9411daf2",
   "metadata": {},
   "outputs": [
    {
     "name": "stdout",
     "output_type": "stream",
     "text": [
      "<class 'pandas.core.frame.DataFrame'>\n",
      "RangeIndex: 60 entries, 0 to 59\n",
      "Data columns (total 2 columns):\n",
      " #   Column      Non-Null Count  Dtype         \n",
      "---  ------      --------------  -----         \n",
      " 0   Date_index  60 non-null     int32         \n",
      " 1   Date_m      60 non-null     datetime64[ns]\n",
      "dtypes: datetime64[ns](1), int32(1)\n",
      "memory usage: 852.0 bytes\n"
     ]
    }
   ],
   "source": [
    "# Create a dates table consisting of a consecutive index column and the dates (for connecting tables in SQL)\n",
    "index = np.arange(0, len(maternal_mortality_df[\"Date_m\"].unique()), 1)\n",
    "dates_df = pd.DataFrame(sorted(maternal_mortality_df[\"Date_m\"].unique()), columns=['Date_m'])\n",
    "dates_df[\"Date_index\"] = index\n",
    "dates_df = dates_df[['Date_index', 'Date_m']]\n",
    "dates_df.info()\n",
    "dates_df.to_csv(\"Resources/dates.csv\", encoding='utf8', index=False)"
   ]
  }
 ],
 "metadata": {
  "kernelspec": {
   "display_name": "Python 3 (ipykernel)",
   "language": "python",
   "name": "python3"
  },
  "language_info": {
   "codemirror_mode": {
    "name": "ipython",
    "version": 3
   },
   "file_extension": ".py",
   "mimetype": "text/x-python",
   "name": "python",
   "nbconvert_exporter": "python",
   "pygments_lexer": "ipython3",
   "version": "3.11.7"
  }
 },
 "nbformat": 4,
 "nbformat_minor": 5
}
