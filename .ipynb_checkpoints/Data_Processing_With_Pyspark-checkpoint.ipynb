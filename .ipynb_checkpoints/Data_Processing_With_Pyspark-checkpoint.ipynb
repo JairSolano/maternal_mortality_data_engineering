{
 "cells": [
  {
   "cell_type": "code",
   "execution_count": 8,
   "id": "87eb48bf",
   "metadata": {},
   "outputs": [],
   "source": [
    "import pyspark as pyspark\n",
    "from pyspark.sql import SparkSession"
   ]
  },
  {
   "cell_type": "code",
   "execution_count": 36,
   "id": "922abc8b",
   "metadata": {},
   "outputs": [],
   "source": [
    "from pyspark.sql.functions import *\n",
    "from pyspark.sql.types import *"
   ]
  },
  {
   "cell_type": "code",
   "execution_count": 10,
   "id": "2346ddd8",
   "metadata": {},
   "outputs": [],
   "source": [
    "spark = SparkSession.builder.appName(\"Maternal Mortality Data Processing\").config(\"spark.memory.offHeap.enabled\",\"true\").config(\"spark.memory.offHeap.size\",\"10g\").getOrCreate()"
   ]
  },
  {
   "cell_type": "code",
   "execution_count": 28,
   "id": "2a8ac961",
   "metadata": {},
   "outputs": [],
   "source": [
    "df = spark.read.csv('VSRR_Provisional_Maternal_Death_Counts_and_Rates.csv', header=True, escape=\"\\\"\")"
   ]
  },
  {
   "cell_type": "code",
   "execution_count": 13,
   "id": "1cd3f9b9",
   "metadata": {},
   "outputs": [
    {
     "name": "stdout",
     "output_type": "stream",
     "text": [
      "+----------+-------------+-----+--------+-------------+--------------+---------------+-----------------+---------------+-----------+-----------------------+--------+\n",
      "|Data As Of|Jurisdiction |Group|Subgroup|Year of Death|Month of Death|Time Period    |Month Ending Date|Maternal Deaths|Live Births|Maternal Mortality Rate|Footnote|\n",
      "+----------+-------------+-----+--------+-------------+--------------+---------------+-----------------+---------------+-----------+-----------------------+--------+\n",
      "|4/14/2024 |United States|Total|Total   |2019         |1             |12 month-ending|1/31/2019        |660            |3,787,776  |17.4                   |NULL    |\n",
      "|4/14/2024 |United States|Total|Total   |2019         |2             |12 month-ending|2/28/2019        |653            |3,783,489  |17.3                   |NULL    |\n",
      "|4/14/2024 |United States|Total|Total   |2019         |3             |12 month-ending|3/31/2019        |657            |3,771,682  |17.4                   |NULL    |\n",
      "|4/14/2024 |United States|Total|Total   |2019         |4             |12 month-ending|4/30/2019        |668            |3,772,235  |17.7                   |NULL    |\n",
      "|4/14/2024 |United States|Total|Total   |2019         |5             |12 month-ending|5/31/2019        |706            |3,767,999  |18.7                   |NULL    |\n",
      "+----------+-------------+-----+--------+-------------+--------------+---------------+-----------------+---------------+-----------+-----------------------+--------+\n",
      "only showing top 5 rows\n",
      "\n"
     ]
    }
   ],
   "source": [
    "df.show(5,0)"
   ]
  },
  {
   "cell_type": "code",
   "execution_count": 29,
   "id": "65b1a770",
   "metadata": {},
   "outputs": [
    {
     "data": {
      "text/plain": [
       "['Data As Of',\n",
       " 'Jurisdiction',\n",
       " 'Group',\n",
       " 'Subgroup',\n",
       " 'Year of Death',\n",
       " 'Month of Death',\n",
       " 'Time Period',\n",
       " 'Month Ending Date',\n",
       " 'Maternal Deaths',\n",
       " 'Live Births',\n",
       " 'Maternal Mortality Rate',\n",
       " 'Footnote']"
      ]
     },
     "execution_count": 29,
     "metadata": {},
     "output_type": "execute_result"
    }
   ],
   "source": [
    "### Take a look at the columns\n",
    "df.columns"
   ]
  },
  {
   "cell_type": "code",
   "execution_count": 30,
   "id": "d173462e",
   "metadata": {},
   "outputs": [
    {
     "name": "stdout",
     "output_type": "stream",
     "text": [
      "+----------+\n",
      "|Data As Of|\n",
      "+----------+\n",
      "| 4/14/2024|\n",
      "| 4/14/2024|\n",
      "| 4/14/2024|\n",
      "| 4/14/2024|\n",
      "| 4/14/2024|\n",
      "| 4/14/2024|\n",
      "| 4/14/2024|\n",
      "| 4/14/2024|\n",
      "| 4/14/2024|\n",
      "| 4/14/2024|\n",
      "| 4/14/2024|\n",
      "| 4/14/2024|\n",
      "| 4/14/2024|\n",
      "| 4/14/2024|\n",
      "| 4/14/2024|\n",
      "| 4/14/2024|\n",
      "| 4/14/2024|\n",
      "| 4/14/2024|\n",
      "| 4/14/2024|\n",
      "| 4/14/2024|\n",
      "+----------+\n",
      "only showing top 20 rows\n",
      "\n"
     ]
    },
    {
     "data": {
      "text/plain": [
       "['Jurisdiction',\n",
       " 'Group',\n",
       " 'Subgroup',\n",
       " 'Year of Death',\n",
       " 'Month of Death',\n",
       " 'Time Period',\n",
       " 'Month Ending Date',\n",
       " 'Maternal Deaths',\n",
       " 'Live Births',\n",
       " 'Maternal Mortality Rate',\n",
       " 'Footnote']"
      ]
     },
     "execution_count": 30,
     "metadata": {},
     "output_type": "execute_result"
    }
   ],
   "source": [
    "### Get rid of the unnecessary columns\n",
    "### 1) 'Data As Of'\n",
    "df.select(\"Data As Of\").show() \n",
    "## It looks like all the values are the same, so let's delete this column\n",
    "df = df.drop(\"Data As Of\")\n",
    "df.columns"
   ]
  },
  {
   "cell_type": "code",
   "execution_count": 31,
   "id": "d3878a2a",
   "metadata": {},
   "outputs": [
    {
     "name": "stdout",
     "output_type": "stream",
     "text": [
      "+-------------+-----+--------+-------------+--------------+---------------+-----------------+---------------+-----------+-----------------------+--------+\n",
      "|Jurisdiction |Group|Subgroup|Year of Death|Month of Death|Time Period    |Month Ending Date|Maternal Deaths|Live Births|Maternal Mortality Rate|Footnote|\n",
      "+-------------+-----+--------+-------------+--------------+---------------+-----------------+---------------+-----------+-----------------------+--------+\n",
      "|United States|Total|Total   |2019         |1             |12 month-ending|1/31/2019        |660            |3,787,776  |17.4                   |NULL    |\n",
      "|United States|Total|Total   |2019         |2             |12 month-ending|2/28/2019        |653            |3,783,489  |17.3                   |NULL    |\n",
      "|United States|Total|Total   |2019         |3             |12 month-ending|3/31/2019        |657            |3,771,682  |17.4                   |NULL    |\n",
      "|United States|Total|Total   |2019         |4             |12 month-ending|4/30/2019        |668            |3,772,235  |17.7                   |NULL    |\n",
      "|United States|Total|Total   |2019         |5             |12 month-ending|5/31/2019        |706            |3,767,999  |18.7                   |NULL    |\n",
      "+-------------+-----+--------+-------------+--------------+---------------+-----------------+---------------+-----------+-----------------------+--------+\n",
      "only showing top 5 rows\n",
      "\n"
     ]
    }
   ],
   "source": [
    "df.show(5,0)"
   ]
  },
  {
   "cell_type": "code",
   "execution_count": 39,
   "id": "aef82f80",
   "metadata": {},
   "outputs": [
    {
     "name": "stdout",
     "output_type": "stream",
     "text": [
      "+-------------+-------------------+\n",
      "|Jurisdiction |count(Jurisdiction)|\n",
      "+-------------+-------------------+\n",
      "|United States|600                |\n",
      "+-------------+-------------------+\n",
      "\n",
      "+-----+--------+-------------+--------------+---------------+-----------------+---------------+-----------+-----------------------+--------+\n",
      "|Group|Subgroup|Year of Death|Month of Death|Time Period    |Month Ending Date|Maternal Deaths|Live Births|Maternal Mortality Rate|Footnote|\n",
      "+-----+--------+-------------+--------------+---------------+-----------------+---------------+-----------+-----------------------+--------+\n",
      "|Total|Total   |2019         |1             |12 month-ending|1/31/2019        |660            |3,787,776  |17.4                   |NULL    |\n",
      "|Total|Total   |2019         |2             |12 month-ending|2/28/2019        |653            |3,783,489  |17.3                   |NULL    |\n",
      "|Total|Total   |2019         |3             |12 month-ending|3/31/2019        |657            |3,771,682  |17.4                   |NULL    |\n",
      "|Total|Total   |2019         |4             |12 month-ending|4/30/2019        |668            |3,772,235  |17.7                   |NULL    |\n",
      "|Total|Total   |2019         |5             |12 month-ending|5/31/2019        |706            |3,767,999  |18.7                   |NULL    |\n",
      "+-----+--------+-------------+--------------+---------------+-----------------+---------------+-----------+-----------------------+--------+\n",
      "only showing top 5 rows\n",
      "\n"
     ]
    }
   ],
   "source": [
    "### Jurisdiction column\n",
    "##df.select(\"Jurisdiction\").show() ##UNCOMMENT LATER?\n",
    "### It looks like all the values under the 'Jursidiction' column are the same, but let's double-check\n",
    "df_juris = df.groupBy('Jurisdiction').agg(count('Jurisdiction'))\n",
    "df_juris.show(5,0)\n",
    "### We see that the 'Jurisdiction' column only consists of entries reading 'United States', so let's delete that column as well\n",
    "df = df.drop('Jurisdiction')\n",
    "df.show(5,0)"
   ]
  }
 ],
 "metadata": {
  "kernelspec": {
   "display_name": "Python 3 (ipykernel)",
   "language": "python",
   "name": "python3"
  },
  "language_info": {
   "codemirror_mode": {
    "name": "ipython",
    "version": 3
   },
   "file_extension": ".py",
   "mimetype": "text/x-python",
   "name": "python",
   "nbconvert_exporter": "python",
   "pygments_lexer": "ipython3",
   "version": "3.11.7"
  }
 },
 "nbformat": 4,
 "nbformat_minor": 5
}
