{
 "cells": [
  {
   "cell_type": "code",
   "execution_count": 1,
   "id": "c15e6544",
   "metadata": {},
   "outputs": [],
   "source": [
    "import pendulum\n",
    "import pandas as pd"
   ]
  },
  {
   "cell_type": "code",
   "execution_count": 2,
   "id": "a95ba8a3",
   "metadata": {},
   "outputs": [
    {
     "data": {
      "text/html": [
       "<div>\n",
       "<style scoped>\n",
       "    .dataframe tbody tr th:only-of-type {\n",
       "        vertical-align: middle;\n",
       "    }\n",
       "\n",
       "    .dataframe tbody tr th {\n",
       "        vertical-align: top;\n",
       "    }\n",
       "\n",
       "    .dataframe thead th {\n",
       "        text-align: right;\n",
       "    }\n",
       "</style>\n",
       "<table border=\"1\" class=\"dataframe\">\n",
       "  <thead>\n",
       "    <tr style=\"text-align: right;\">\n",
       "      <th></th>\n",
       "      <th>Data As Of</th>\n",
       "      <th>Jurisdiction</th>\n",
       "      <th>Group</th>\n",
       "      <th>Subgroup</th>\n",
       "      <th>Year of Death</th>\n",
       "      <th>Month of Death</th>\n",
       "      <th>Time Period</th>\n",
       "      <th>Month Ending Date</th>\n",
       "      <th>Maternal Deaths</th>\n",
       "      <th>Live Births</th>\n",
       "      <th>Maternal Mortality Rate</th>\n",
       "      <th>Footnote</th>\n",
       "    </tr>\n",
       "  </thead>\n",
       "  <tbody>\n",
       "    <tr>\n",
       "      <th>0</th>\n",
       "      <td>4/14/2024</td>\n",
       "      <td>United States</td>\n",
       "      <td>Total</td>\n",
       "      <td>Total</td>\n",
       "      <td>2019</td>\n",
       "      <td>1</td>\n",
       "      <td>12 month-ending</td>\n",
       "      <td>1/31/2019</td>\n",
       "      <td>660</td>\n",
       "      <td>3,787,776</td>\n",
       "      <td>17.4</td>\n",
       "      <td>NaN</td>\n",
       "    </tr>\n",
       "    <tr>\n",
       "      <th>1</th>\n",
       "      <td>4/14/2024</td>\n",
       "      <td>United States</td>\n",
       "      <td>Total</td>\n",
       "      <td>Total</td>\n",
       "      <td>2019</td>\n",
       "      <td>2</td>\n",
       "      <td>12 month-ending</td>\n",
       "      <td>2/28/2019</td>\n",
       "      <td>653</td>\n",
       "      <td>3,783,489</td>\n",
       "      <td>17.3</td>\n",
       "      <td>NaN</td>\n",
       "    </tr>\n",
       "    <tr>\n",
       "      <th>2</th>\n",
       "      <td>4/14/2024</td>\n",
       "      <td>United States</td>\n",
       "      <td>Total</td>\n",
       "      <td>Total</td>\n",
       "      <td>2019</td>\n",
       "      <td>3</td>\n",
       "      <td>12 month-ending</td>\n",
       "      <td>3/31/2019</td>\n",
       "      <td>657</td>\n",
       "      <td>3,771,682</td>\n",
       "      <td>17.4</td>\n",
       "      <td>NaN</td>\n",
       "    </tr>\n",
       "    <tr>\n",
       "      <th>3</th>\n",
       "      <td>4/14/2024</td>\n",
       "      <td>United States</td>\n",
       "      <td>Total</td>\n",
       "      <td>Total</td>\n",
       "      <td>2019</td>\n",
       "      <td>4</td>\n",
       "      <td>12 month-ending</td>\n",
       "      <td>4/30/2019</td>\n",
       "      <td>668</td>\n",
       "      <td>3,772,235</td>\n",
       "      <td>17.7</td>\n",
       "      <td>NaN</td>\n",
       "    </tr>\n",
       "    <tr>\n",
       "      <th>4</th>\n",
       "      <td>4/14/2024</td>\n",
       "      <td>United States</td>\n",
       "      <td>Total</td>\n",
       "      <td>Total</td>\n",
       "      <td>2019</td>\n",
       "      <td>5</td>\n",
       "      <td>12 month-ending</td>\n",
       "      <td>5/31/2019</td>\n",
       "      <td>706</td>\n",
       "      <td>3,767,999</td>\n",
       "      <td>18.7</td>\n",
       "      <td>NaN</td>\n",
       "    </tr>\n",
       "  </tbody>\n",
       "</table>\n",
       "</div>"
      ],
      "text/plain": [
       "  Data As Of   Jurisdiction  Group Subgroup  Year of Death  Month of Death  \\\n",
       "0  4/14/2024  United States  Total    Total           2019               1   \n",
       "1  4/14/2024  United States  Total    Total           2019               2   \n",
       "2  4/14/2024  United States  Total    Total           2019               3   \n",
       "3  4/14/2024  United States  Total    Total           2019               4   \n",
       "4  4/14/2024  United States  Total    Total           2019               5   \n",
       "\n",
       "       Time Period Month Ending Date Maternal Deaths Live Births  \\\n",
       "0  12 month-ending         1/31/2019             660   3,787,776   \n",
       "1  12 month-ending         2/28/2019             653   3,783,489   \n",
       "2  12 month-ending         3/31/2019             657   3,771,682   \n",
       "3  12 month-ending         4/30/2019             668   3,772,235   \n",
       "4  12 month-ending         5/31/2019             706   3,767,999   \n",
       "\n",
       "   Maternal Mortality Rate Footnote  \n",
       "0                     17.4      NaN  \n",
       "1                     17.3      NaN  \n",
       "2                     17.4      NaN  \n",
       "3                     17.7      NaN  \n",
       "4                     18.7      NaN  "
      ]
     },
     "execution_count": 2,
     "metadata": {},
     "output_type": "execute_result"
    }
   ],
   "source": [
    "df = pd.read_csv(\"VSRR_Provisional_Maternal_Death_Counts_and_Rates.csv\", header=0)\n",
    "df.head()"
   ]
  },
  {
   "cell_type": "code",
   "execution_count": 3,
   "id": "aa03bf3d",
   "metadata": {},
   "outputs": [
    {
     "name": "stderr",
     "output_type": "stream",
     "text": [
      "C:\\Users\\karen\\AppData\\Local\\Temp\\ipykernel_784\\3997446119.py:12: FutureWarning: Series.__getitem__ treating keys as positions is deprecated. In a future version, integer keys will always be treated as labels (consistent with DataFrame behavior). To access a value by position, use `ser.iloc[pos]`\n",
      "  year = row[4]\n",
      "C:\\Users\\karen\\AppData\\Local\\Temp\\ipykernel_784\\3997446119.py:13: FutureWarning: Series.__getitem__ treating keys as positions is deprecated. In a future version, integer keys will always be treated as labels (consistent with DataFrame behavior). To access a value by position, use `ser.iloc[pos]`\n",
      "  month = row[5]\n",
      "C:\\Users\\karen\\AppData\\Local\\Temp\\ipykernel_784\\3997446119.py:14: FutureWarning: Series.__getitem__ treating keys as positions is deprecated. In a future version, integer keys will always be treated as labels (consistent with DataFrame behavior). To access a value by position, use `ser.iloc[pos]`\n",
      "  day = row[12]\n"
     ]
    }
   ],
   "source": [
    "#df[\"Month Ending Date\"] = df[\"Month Ending Date\"].astype(str)\n",
    "#df[\"Month Ending Date\"][0]\n",
    "## Extract the day of the date using regular expressions\n",
    "p = '(?<=/)(\\d*)(?=/)'\n",
    "df[\"Day\"] = df[\"Month Ending Date\"].str.extract(p)\n",
    "df[\"Year of Death\"] = df[\"Year of Death\"].astype(int)\n",
    "df[\"Day\"] = df[\"Day\"].astype(int)\n",
    "df[\"Month of Death\"] = df[\"Month of Death\"].astype(int)\n",
    "\n",
    "datetime_list = []\n",
    "for i, row in df.iloc[0:].iterrows():\n",
    "    year = row[4]\n",
    "    month = row[5]\n",
    "    day = row[12]\n",
    "    datetime_object = pendulum.datetime(year, month, day)\n",
    "    datetime_object = datetime_object.format('YYYY MM DD')\n",
    "    datetime_list.append(datetime_object)\n",
    "\n",
    "df[\"Month Ending Date as Datetime\"] = datetime_list\n",
    "#pendulum.datetime(row[0], row[1], row[2]) for row in df[[\"Year of Death\", \"Month of Death\", \"Day\"]]"
   ]
  },
  {
   "cell_type": "code",
   "execution_count": 4,
   "id": "268f77ad",
   "metadata": {},
   "outputs": [
    {
     "name": "stdout",
     "output_type": "stream",
     "text": [
      "<class 'pandas.core.frame.DataFrame'>\n",
      "RangeIndex: 600 entries, 0 to 599\n",
      "Data columns (total 14 columns):\n",
      " #   Column                         Non-Null Count  Dtype  \n",
      "---  ------                         --------------  -----  \n",
      " 0   Data As Of                     600 non-null    object \n",
      " 1   Jurisdiction                   600 non-null    object \n",
      " 2   Group                          600 non-null    object \n",
      " 3   Subgroup                       600 non-null    object \n",
      " 4   Year of Death                  600 non-null    int32  \n",
      " 5   Month of Death                 600 non-null    int32  \n",
      " 6   Time Period                    600 non-null    object \n",
      " 7   Month Ending Date              600 non-null    object \n",
      " 8   Maternal Deaths                533 non-null    object \n",
      " 9   Live Births                    600 non-null    object \n",
      " 10  Maternal Mortality Rate        494 non-null    float64\n",
      " 11  Footnote                       106 non-null    object \n",
      " 12  Day                            600 non-null    int32  \n",
      " 13  Month Ending Date as Datetime  600 non-null    object \n",
      "dtypes: float64(1), int32(3), object(10)\n",
      "memory usage: 58.7+ KB\n"
     ]
    }
   ],
   "source": [
    "df.info()"
   ]
  },
  {
   "cell_type": "code",
   "execution_count": 5,
   "id": "71443416",
   "metadata": {},
   "outputs": [
    {
     "data": {
      "text/html": [
       "<div>\n",
       "<style scoped>\n",
       "    .dataframe tbody tr th:only-of-type {\n",
       "        vertical-align: middle;\n",
       "    }\n",
       "\n",
       "    .dataframe tbody tr th {\n",
       "        vertical-align: top;\n",
       "    }\n",
       "\n",
       "    .dataframe thead th {\n",
       "        text-align: right;\n",
       "    }\n",
       "</style>\n",
       "<table border=\"1\" class=\"dataframe\">\n",
       "  <thead>\n",
       "    <tr style=\"text-align: right;\">\n",
       "      <th></th>\n",
       "      <th>Data As Of</th>\n",
       "      <th>Jurisdiction</th>\n",
       "      <th>Group</th>\n",
       "      <th>Subgroup</th>\n",
       "      <th>Year of Death</th>\n",
       "      <th>Month of Death</th>\n",
       "      <th>Time Period</th>\n",
       "      <th>Month Ending Date</th>\n",
       "      <th>Maternal Deaths</th>\n",
       "      <th>Live Births</th>\n",
       "      <th>Maternal Mortality Rate</th>\n",
       "      <th>Footnote</th>\n",
       "      <th>Day</th>\n",
       "      <th>Month Ending Date as Datetime</th>\n",
       "    </tr>\n",
       "  </thead>\n",
       "  <tbody>\n",
       "    <tr>\n",
       "      <th>0</th>\n",
       "      <td>4/14/2024</td>\n",
       "      <td>United States</td>\n",
       "      <td>Total</td>\n",
       "      <td>Total</td>\n",
       "      <td>2019</td>\n",
       "      <td>1</td>\n",
       "      <td>12 month-ending</td>\n",
       "      <td>1/31/2019</td>\n",
       "      <td>660</td>\n",
       "      <td>3,787,776</td>\n",
       "      <td>17.4</td>\n",
       "      <td>NaN</td>\n",
       "      <td>31</td>\n",
       "      <td>2019 01 31</td>\n",
       "    </tr>\n",
       "    <tr>\n",
       "      <th>1</th>\n",
       "      <td>4/14/2024</td>\n",
       "      <td>United States</td>\n",
       "      <td>Total</td>\n",
       "      <td>Total</td>\n",
       "      <td>2019</td>\n",
       "      <td>2</td>\n",
       "      <td>12 month-ending</td>\n",
       "      <td>2/28/2019</td>\n",
       "      <td>653</td>\n",
       "      <td>3,783,489</td>\n",
       "      <td>17.3</td>\n",
       "      <td>NaN</td>\n",
       "      <td>28</td>\n",
       "      <td>2019 02 28</td>\n",
       "    </tr>\n",
       "    <tr>\n",
       "      <th>2</th>\n",
       "      <td>4/14/2024</td>\n",
       "      <td>United States</td>\n",
       "      <td>Total</td>\n",
       "      <td>Total</td>\n",
       "      <td>2019</td>\n",
       "      <td>3</td>\n",
       "      <td>12 month-ending</td>\n",
       "      <td>3/31/2019</td>\n",
       "      <td>657</td>\n",
       "      <td>3,771,682</td>\n",
       "      <td>17.4</td>\n",
       "      <td>NaN</td>\n",
       "      <td>31</td>\n",
       "      <td>2019 03 31</td>\n",
       "    </tr>\n",
       "    <tr>\n",
       "      <th>3</th>\n",
       "      <td>4/14/2024</td>\n",
       "      <td>United States</td>\n",
       "      <td>Total</td>\n",
       "      <td>Total</td>\n",
       "      <td>2019</td>\n",
       "      <td>4</td>\n",
       "      <td>12 month-ending</td>\n",
       "      <td>4/30/2019</td>\n",
       "      <td>668</td>\n",
       "      <td>3,772,235</td>\n",
       "      <td>17.7</td>\n",
       "      <td>NaN</td>\n",
       "      <td>30</td>\n",
       "      <td>2019 04 30</td>\n",
       "    </tr>\n",
       "    <tr>\n",
       "      <th>4</th>\n",
       "      <td>4/14/2024</td>\n",
       "      <td>United States</td>\n",
       "      <td>Total</td>\n",
       "      <td>Total</td>\n",
       "      <td>2019</td>\n",
       "      <td>5</td>\n",
       "      <td>12 month-ending</td>\n",
       "      <td>5/31/2019</td>\n",
       "      <td>706</td>\n",
       "      <td>3,767,999</td>\n",
       "      <td>18.7</td>\n",
       "      <td>NaN</td>\n",
       "      <td>31</td>\n",
       "      <td>2019 05 31</td>\n",
       "    </tr>\n",
       "  </tbody>\n",
       "</table>\n",
       "</div>"
      ],
      "text/plain": [
       "  Data As Of   Jurisdiction  Group Subgroup  Year of Death  Month of Death  \\\n",
       "0  4/14/2024  United States  Total    Total           2019               1   \n",
       "1  4/14/2024  United States  Total    Total           2019               2   \n",
       "2  4/14/2024  United States  Total    Total           2019               3   \n",
       "3  4/14/2024  United States  Total    Total           2019               4   \n",
       "4  4/14/2024  United States  Total    Total           2019               5   \n",
       "\n",
       "       Time Period Month Ending Date Maternal Deaths Live Births  \\\n",
       "0  12 month-ending         1/31/2019             660   3,787,776   \n",
       "1  12 month-ending         2/28/2019             653   3,783,489   \n",
       "2  12 month-ending         3/31/2019             657   3,771,682   \n",
       "3  12 month-ending         4/30/2019             668   3,772,235   \n",
       "4  12 month-ending         5/31/2019             706   3,767,999   \n",
       "\n",
       "   Maternal Mortality Rate Footnote  Day Month Ending Date as Datetime  \n",
       "0                     17.4      NaN   31                    2019 01 31  \n",
       "1                     17.3      NaN   28                    2019 02 28  \n",
       "2                     17.4      NaN   31                    2019 03 31  \n",
       "3                     17.7      NaN   30                    2019 04 30  \n",
       "4                     18.7      NaN   31                    2019 05 31  "
      ]
     },
     "execution_count": 5,
     "metadata": {},
     "output_type": "execute_result"
    }
   ],
   "source": [
    "df.head()"
   ]
  },
  {
   "cell_type": "markdown",
   "id": "74595e53",
   "metadata": {},
   "source": [
    "### Using Pyspark and Regex"
   ]
  },
  {
   "cell_type": "code",
   "execution_count": 6,
   "id": "904d4c2e",
   "metadata": {},
   "outputs": [],
   "source": [
    "import pyspark\n",
    "from pyspark.sql import SparkSession\n",
    "from pyspark.sql.functions import *\n",
    "from pyspark.sql.types import *\n",
    "from pyspark.sql.functions import lpad"
   ]
  },
  {
   "cell_type": "code",
   "execution_count": 7,
   "id": "20a53fd1",
   "metadata": {},
   "outputs": [],
   "source": [
    "spark = SparkSession.builder.appName(\"Maternal Mortality Data Processing\").config(\"spark.memory.offHeap.enabled\",\"true\").config(\"spark.memory.offHeap.size\",\"10g\").getOrCreate()"
   ]
  },
  {
   "cell_type": "code",
   "execution_count": 8,
   "id": "a5b432a6",
   "metadata": {},
   "outputs": [],
   "source": [
    "df_py = spark.read.csv('VSRR_Provisional_Maternal_Death_Counts_and_Rates.csv', header=True, escape=\"\\\"\")"
   ]
  },
  {
   "cell_type": "code",
   "execution_count": 9,
   "id": "d8de1f7d",
   "metadata": {},
   "outputs": [
    {
     "name": "stdout",
     "output_type": "stream",
     "text": [
      "+----------+-------------+-----+--------+-------------+--------------+---------------+-----------------+---------------+-----------+-----------------------+--------+\n",
      "|Data As Of|Jurisdiction |Group|Subgroup|Year of Death|Month of Death|Time Period    |Month Ending Date|Maternal Deaths|Live Births|Maternal Mortality Rate|Footnote|\n",
      "+----------+-------------+-----+--------+-------------+--------------+---------------+-----------------+---------------+-----------+-----------------------+--------+\n",
      "|4/14/2024 |United States|Total|Total   |2019         |1             |12 month-ending|1/31/2019        |660            |3,787,776  |17.4                   |NULL    |\n",
      "|4/14/2024 |United States|Total|Total   |2019         |2             |12 month-ending|2/28/2019        |653            |3,783,489  |17.3                   |NULL    |\n",
      "|4/14/2024 |United States|Total|Total   |2019         |3             |12 month-ending|3/31/2019        |657            |3,771,682  |17.4                   |NULL    |\n",
      "|4/14/2024 |United States|Total|Total   |2019         |4             |12 month-ending|4/30/2019        |668            |3,772,235  |17.7                   |NULL    |\n",
      "|4/14/2024 |United States|Total|Total   |2019         |5             |12 month-ending|5/31/2019        |706            |3,767,999  |18.7                   |NULL    |\n",
      "+----------+-------------+-----+--------+-------------+--------------+---------------+-----------------+---------------+-----------+-----------------------+--------+\n",
      "only showing top 5 rows\n",
      "\n"
     ]
    }
   ],
   "source": [
    "df_py.show(5,0)"
   ]
  },
  {
   "cell_type": "code",
   "execution_count": 10,
   "id": "8993eabe",
   "metadata": {},
   "outputs": [],
   "source": [
    "### Extract the day part of the date since we need the day to concatenate columns to make a new column consisting of date \n",
    "### in String format Year-Month-Day because Pyspark's to_date method requires strings to be in Year-Month-Day format\n",
    "df_py = df_py.withColumn(\"Day\", regexp_extract(col(\"Month Ending Date\"), \"(?<=/)(\\d*)(?=/)\", 1))"
   ]
  },
  {
   "cell_type": "code",
   "execution_count": 11,
   "id": "e3b43c18",
   "metadata": {},
   "outputs": [
    {
     "data": {
      "text/plain": [
       "[('Data As Of', 'string'),\n",
       " ('Jurisdiction', 'string'),\n",
       " ('Group', 'string'),\n",
       " ('Subgroup', 'string'),\n",
       " ('Year of Death', 'string'),\n",
       " ('Month of Death', 'string'),\n",
       " ('Time Period', 'string'),\n",
       " ('Month Ending Date', 'string'),\n",
       " ('Maternal Deaths', 'string'),\n",
       " ('Live Births', 'string'),\n",
       " ('Maternal Mortality Rate', 'string'),\n",
       " ('Footnote', 'string'),\n",
       " ('Day', 'string')]"
      ]
     },
     "execution_count": 11,
     "metadata": {},
     "output_type": "execute_result"
    }
   ],
   "source": [
    "### Check that there is a new column called 'Day'\n",
    "df_py.dtypes"
   ]
  },
  {
   "cell_type": "code",
   "execution_count": 12,
   "id": "3dd661c8",
   "metadata": {},
   "outputs": [
    {
     "name": "stdout",
     "output_type": "stream",
     "text": [
      "+---+\n",
      "|Day|\n",
      "+---+\n",
      "|29 |\n",
      "|30 |\n",
      "|28 |\n",
      "|31 |\n",
      "+---+\n",
      "\n"
     ]
    }
   ],
   "source": [
    "### Take a look at the distinct values under the 'Day' column\n",
    "### Supposedly, the maximum number of days in a month is 31\n",
    "df_py.select(\"Day\").distinct().show(31,0)\n",
    "### Looks like there are no days that are single digits, so no padding each single digit with a 0 in front is unnecessary"
   ]
  },
  {
   "cell_type": "code",
   "execution_count": 19,
   "id": "4a9d7d60",
   "metadata": {},
   "outputs": [
    {
     "ename": "AttributeError",
     "evalue": "'list' object has no attribute 'select'",
     "output_type": "error",
     "traceback": [
      "\u001b[1;31m---------------------------------------------------------------------------\u001b[0m",
      "\u001b[1;31mAttributeError\u001b[0m                            Traceback (most recent call last)",
      "Cell \u001b[1;32mIn[19], line 2\u001b[0m\n\u001b[0;32m      1\u001b[0m \u001b[38;5;66;03m### Take a look at the distinct values under the 'Month of Death' column\u001b[39;00m\n\u001b[1;32m----> 2\u001b[0m df_py\u001b[38;5;241m.\u001b[39mselect(\u001b[38;5;124m\"\u001b[39m\u001b[38;5;124mMonth of Death\u001b[39m\u001b[38;5;124m\"\u001b[39m)\u001b[38;5;241m.\u001b[39mdistinct()\u001b[38;5;241m.\u001b[39mshow(\u001b[38;5;241m12\u001b[39m,\u001b[38;5;241m0\u001b[39m)\n",
      "\u001b[1;31mAttributeError\u001b[0m: 'list' object has no attribute 'select'"
     ]
    }
   ],
   "source": [
    "### Take a look at the distinct values under the 'Month of Death' column\n",
    "df_py.select(\"Month of Death\").distinct().show(12,0)\n",
    "### There are months that are represented by single digits, so pad each single digit month with a 0 in front"
   ]
  },
  {
   "cell_type": "code",
   "execution_count": 20,
   "id": "ee8a6cdd",
   "metadata": {},
   "outputs": [
    {
     "ename": "AttributeError",
     "evalue": "'list' object has no attribute 'withColumn'",
     "output_type": "error",
     "traceback": [
      "\u001b[1;31m---------------------------------------------------------------------------\u001b[0m",
      "\u001b[1;31mAttributeError\u001b[0m                            Traceback (most recent call last)",
      "Cell \u001b[1;32mIn[20], line 3\u001b[0m\n\u001b[0;32m      1\u001b[0m \u001b[38;5;66;03m### Pad each single-digit month with a 0 in front\u001b[39;00m\n\u001b[0;32m      2\u001b[0m \u001b[38;5;66;03m## Change \"Month of Death\" column to integer type first\u001b[39;00m\n\u001b[1;32m----> 3\u001b[0m df_py \u001b[38;5;241m=\u001b[39m df_py\u001b[38;5;241m.\u001b[39mwithColumn(\u001b[38;5;124m\"\u001b[39m\u001b[38;5;124mMonth\u001b[39m\u001b[38;5;124m\"\u001b[39m, col(\u001b[38;5;124m\"\u001b[39m\u001b[38;5;124mMonth of Death\u001b[39m\u001b[38;5;124m\"\u001b[39m)\u001b[38;5;241m.\u001b[39mcast(\u001b[38;5;124m\"\u001b[39m\u001b[38;5;124mint\u001b[39m\u001b[38;5;124m\"\u001b[39m))\n\u001b[0;32m      4\u001b[0m \u001b[38;5;66;03m## Documentation for padding each 1-digit month with a 0 in front:\u001b[39;00m\n\u001b[0;32m      5\u001b[0m \u001b[38;5;66;03m## https://stackoverflow.com/questions/57959643/how-to-add-leading-zeroes-to-a-pyspark-dataframe-column#:~:text=Use%20format_string%20function%20to%20pad%20zeros%20in%20the%20beginning.&text=If%20the%20number%20is%20string,to%20cast%20it%20into%20integer%20.\u001b[39;00m\n\u001b[0;32m      6\u001b[0m df_py \u001b[38;5;241m=\u001b[39m df_py\u001b[38;5;241m.\u001b[39mwithColumn(\u001b[38;5;124m\"\u001b[39m\u001b[38;5;124mMonth\u001b[39m\u001b[38;5;124m\"\u001b[39m, lpad(col(\u001b[38;5;124m\"\u001b[39m\u001b[38;5;124mMonth\u001b[39m\u001b[38;5;124m\"\u001b[39m),\u001b[38;5;241m2\u001b[39m, \u001b[38;5;124m\"\u001b[39m\u001b[38;5;124m0\u001b[39m\u001b[38;5;124m\"\u001b[39m))\n",
      "\u001b[1;31mAttributeError\u001b[0m: 'list' object has no attribute 'withColumn'"
     ]
    }
   ],
   "source": [
    "### Pad each single-digit month with a 0 in front\n",
    "## Change \"Month of Death\" column to integer type first\n",
    "df_py = df_py.withColumn(\"Month\", col(\"Month of Death\").cast(\"int\"))\n",
    "## Documentation for padding each 1-digit month with a 0 in front:\n",
    "## https://stackoverflow.com/questions/57959643/how-to-add-leading-zeroes-to-a-pyspark-dataframe-column#:~:text=Use%20format_string%20function%20to%20pad%20zeros%20in%20the%20beginning.&text=If%20the%20number%20is%20string,to%20cast%20it%20into%20integer%20.\n",
    "df_py = df_py.withColumn(\"Month\", lpad(col(\"Month\"),2, \"0\"))\n",
    "df_py.select(\"Month\").collect()"
   ]
  },
  {
   "cell_type": "code",
   "execution_count": 15,
   "id": "1cfc662b",
   "metadata": {},
   "outputs": [
    {
     "data": {
      "text/plain": [
       "DataFrame[Month: string]"
      ]
     },
     "execution_count": 15,
     "metadata": {},
     "output_type": "execute_result"
    }
   ],
   "source": [
    "### Cast 'Month' column back into a string\n",
    "df_py = df_py.withColumn(\"Month\", col(\"Month\").cast(\"string\"))\n",
    "df_py.select(\"Month\")"
   ]
  },
  {
   "cell_type": "code",
   "execution_count": 16,
   "id": "552e7bc4",
   "metadata": {},
   "outputs": [],
   "source": [
    "### Combine Month, Day and Year column to make a new 'Month Ending Date Cleaned' column (MM-dd-YYYY) of datatype String\n",
    "df_py = df_py.withColumn(\"Month Ending Date (Cleaned)\", concat_ws(\"-\", col(\"Month\"), col(\"Day\"), col(\"Year of Death\"))).collect()"
   ]
  },
  {
   "cell_type": "code",
   "execution_count": 17,
   "id": "b65c3b73",
   "metadata": {},
   "outputs": [
    {
     "ename": "AttributeError",
     "evalue": "'list' object has no attribute 'select'",
     "output_type": "error",
     "traceback": [
      "\u001b[1;31m---------------------------------------------------------------------------\u001b[0m",
      "\u001b[1;31mAttributeError\u001b[0m                            Traceback (most recent call last)",
      "Cell \u001b[1;32mIn[17], line 3\u001b[0m\n\u001b[0;32m      1\u001b[0m \u001b[38;5;66;03m### Change the new Month Ending Date (Cleaned) to date data type\u001b[39;00m\n\u001b[0;32m      2\u001b[0m \u001b[38;5;66;03m#df_py.withColumn(\"Month Ending Date (Cleaned)\",#\u001b[39;00m\n\u001b[1;32m----> 3\u001b[0m df_py\u001b[38;5;241m.\u001b[39mselect(\u001b[38;5;124m\"\u001b[39m\u001b[38;5;124mSubgroup\u001b[39m\u001b[38;5;124m\"\u001b[39m)\u001b[38;5;241m.\u001b[39mcollect()\n",
      "\u001b[1;31mAttributeError\u001b[0m: 'list' object has no attribute 'select'"
     ]
    }
   ],
   "source": [
    "### Change the new Month Ending Date (Cleaned) to date data type\n",
    "#df_py.withColumn(\"Month Ending Date (Cleaned)\",#\n",
    "df_py.select(\"Subgroup\").collect()"
   ]
  }
 ],
 "metadata": {
  "kernelspec": {
   "display_name": "Python 3 (ipykernel)",
   "language": "python",
   "name": "python3"
  },
  "language_info": {
   "codemirror_mode": {
    "name": "ipython",
    "version": 3
   },
   "file_extension": ".py",
   "mimetype": "text/x-python",
   "name": "python",
   "nbconvert_exporter": "python",
   "pygments_lexer": "ipython3",
   "version": "3.11.7"
  }
 },
 "nbformat": 4,
 "nbformat_minor": 5
}
